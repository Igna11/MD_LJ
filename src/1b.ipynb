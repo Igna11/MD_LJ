{
 "cells": [
  {
   "cell_type": "code",
   "execution_count": 1,
   "metadata": {},
   "outputs": [],
   "source": [
    "import numpy as np\n",
    "import os\n",
    "import matplotlib.pyplot as plt"
   ]
  },
  {
   "cell_type": "markdown",
   "metadata": {},
   "source": [
    "Este programa está listo para recibir el output de main_1b, el cual debería tener la energía cinética (en la vida real tiene también la potencial porque no cuesta nada pedirla).\n",
    "Con esos datos de energía, los va a usar para calcular el valor de $C_v$ según la ecuación acorde al microcanónico que es\n",
    "\n",
    "$$ \\frac{C_v}{Nk} = \\left[ N - kTN \\left(\\frac{3N}{2}-1\\right)\\langle E_{cin}^{-1}\\rangle  \\right]^{-1} $$\n",
    "\n",
    "Usando que $k = 1$ y despejando $C_v$:\n",
    "\n",
    "$$ C_v = N \\left[ N - TN \\left(\\frac{3N}{2}-1\\right)\\langle E_{cin}^{-1}\\rangle  \\right]^{-1} $$\n"
   ]
  },
  {
   "cell_type": "code",
   "execution_count": 23,
   "metadata": {},
   "outputs": [],
   "source": [
    "def Cv_Haile(N,T,Ecin):\n",
    "    Ecin_inversa = 1/Ecin\n",
    "    Prom_Ecin_inv = np.mean(Ecin_inversa)\n",
    "    corchete = N - T*N*(N*1.5-1)*Prom_Ecin_inv\n",
    "    corchete_inv = 1/corchete\n",
    "    \n",
    "    return corchete_inv"
   ]
  },
  {
   "cell_type": "code",
   "execution_count": 11,
   "metadata": {},
   "outputs": [],
   "source": [
    "Dir = r\"C:\\Users\\Paula\\Documents\\Github\\MD_LJ\\src\"\n",
    "os.chdir(Dir)\n",
    "A = np.loadtxt(\"EPot_ECin.txt\")\n",
    "\n",
    "# El ultimo archivo se corrió con las condiciones del problema 1 y pidiendo 26k frames, de los cuales 2k se tiraron por \n",
    "# termalizacion y se usaron 120 para descorrelacionar."
   ]
  },
  {
   "cell_type": "code",
   "execution_count": 24,
   "metadata": {},
   "outputs": [
    {
     "name": "stdout",
     "output_type": "stream",
     "text": [
      "El Cv calculado por este método es 1.8933217538974332e-05\n"
     ]
    }
   ],
   "source": [
    "Cv = Cv_Haile(512,0.728,A[:,1])\n",
    "print('El Cv calculado por este método es', Cv)"
   ]
  },
  {
   "cell_type": "code",
   "execution_count": null,
   "metadata": {},
   "outputs": [],
   "source": []
  }
 ],
 "metadata": {
  "kernelspec": {
   "display_name": "Python 3",
   "language": "python",
   "name": "python3"
  },
  "language_info": {
   "codemirror_mode": {
    "name": "ipython",
    "version": 3
   },
   "file_extension": ".py",
   "mimetype": "text/x-python",
   "name": "python",
   "nbconvert_exporter": "python",
   "pygments_lexer": "ipython3",
   "version": "3.7.1"
  }
 },
 "nbformat": 4,
 "nbformat_minor": 2
}
